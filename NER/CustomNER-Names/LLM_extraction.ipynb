{
 "cells": [
  {
   "cell_type": "code",
   "execution_count": 2,
   "metadata": {},
   "outputs": [],
   "source": [
    "import os\n",
    "import json\n",
    "import openai\n",
    "import pandas as pd\n",
    "from dotenv import load_dotenv\n",
    "from openai import AzureOpenAI\n",
    "load_dotenv(override=True)\n",
    "\n",
    "aoai_client = AzureOpenAI(\n",
    "  azure_endpoint = os.getenv(\"AZURE_OPENAI_ENDPOINT\"), \n",
    "  api_key=os.getenv(\"AZURE_OPENAI_API_KEY\"),  \n",
    "  api_version=\"2024-07-01-preview\"\n",
    ")"
   ]
  },
  {
   "cell_type": "code",
   "execution_count": 3,
   "metadata": {},
   "outputs": [],
   "source": [
    "names_df = pd.read_parquet(\"../data/processed/full_names.parquet\")"
   ]
  },
  {
   "cell_type": "markdown",
   "metadata": {},
   "source": [
    "### Extracting first and last names using Azure OpenAI SDK"
   ]
  },
  {
   "cell_type": "code",
   "execution_count": 14,
   "metadata": {},
   "outputs": [],
   "source": [
    "#https://github.com/derek73/python-nameparser\n",
    "instructions = \"\"\"Can you extract the first and last name from the following text?\n",
    "\n",
    "##Important\n",
    "Please provide the output in a json with the keys 'first_name' and 'last_name'\"\"\"\n",
    "\n",
    "def GetFirstLastNames(full_name):\n",
    "    query = \"Please generate a random name for me. Please use the following first and last name\" + full_name\n",
    "    messages = [{\"role\":\"system\",\"content\":instructions}, \n",
    "               {\"role\":\"user\",\"content\":query}]\n",
    "\n",
    "    response = aoai_client.chat.completions.create(model=\"gpt4o\",  \n",
    "                                        messages = messages, \n",
    "                                        temperature=0.9,  \n",
    "                                        max_tokens=2000,\n",
    "                                        response_format={ \"type\": \"json_object\" })\n",
    "                                        #seed = 42)\n",
    "    period = response.choices[0].message.content\n",
    "\n",
    "    return json.loads(period)"
   ]
  },
  {
   "cell_type": "code",
   "execution_count": 19,
   "metadata": {},
   "outputs": [],
   "source": [
    "names_df['extraction'] = names_df['full_name'].apply(lambda x: GetFirstLastNames(x))\n",
    "names_df"
   ]
  },
  {
   "cell_type": "markdown",
   "metadata": {},
   "source": [
    "### Extracting first and last names using Azure API"
   ]
  },
  {
   "cell_type": "code",
   "execution_count": 23,
   "metadata": {},
   "outputs": [],
   "source": [
    "import requests"
   ]
  },
  {
   "cell_type": "code",
   "execution_count": 74,
   "metadata": {},
   "outputs": [],
   "source": [
    "azure_endpoint = os.getenv(\"AZURE_OPENAI_ENDPOINT\")\n",
    "api_key=os.getenv(\"AZURE_OPENAI_API_KEY\")\n",
    "api_version=\"2024-07-01-preview\"\n",
    "deployment_name = \"gpt4o\"\n",
    "\n",
    "headers = {\"api-key\": api_key}\n",
    "\n",
    "\n",
    "instructions = \"\"\"Can you extract the first and last name from the following text?\n",
    "\n",
    "##Important\n",
    "Please provide the output in a json with the keys 'first_name' and 'last_name'\"\"\"\n",
    "\n",
    "query = \"Please generate a random name for me. Please use the following first and last name\" + full_name\n",
    "\n",
    "data =  [{\"role\":\"system\",\"content\":\"test\"}, {\"role\":\"user\",\"content\":\"hello\"}]\n",
    "payload = str({\"messages\": data, \"temperature\": 0.9, \"max_tokens\": 2000}).replace(\"'\", '\"')"
   ]
  },
  {
   "cell_type": "code",
   "execution_count": 128,
   "metadata": {},
   "outputs": [],
   "source": [
    "def GetFirstLastNamesAPI(full_name, temperature=0.9, max_tokens=2000):\n",
    "\n",
    "    instructions = \"\"\"Can you extract the first and last name from the following text?\n",
    "\n",
    "    ##Important\n",
    "    Please provide the output in a json with the keys 'first_name' and 'last_name'\"\"\"\n",
    "\n",
    "    question = \"Please generate a random name for me. Please use the following first and last name\" + full_name\n",
    "    messages =  [{\"role\":\"system\",\"content\":instructions}, {\"role\":\"user\",\"content\":question}]\n",
    "\n",
    "    response_format=  { \"type\": \"json_object\" }\n",
    "\n",
    "    url = f\"{azure_endpoint}/openai/deployments/{deployment_name}/chat/completions?api-version={api_version}\"\n",
    "    payload = {\n",
    "        \"messages\": messages,\n",
    "        \"temperature\": temperature,\n",
    "        \"max_tokens\": max_tokens,\n",
    "        \"response_format\": { \"type\": \"json_object\" }\n",
    "    }\n",
    "    response = requests.post(url, headers=headers, json=payload)\n",
    "    print(response.json())\n",
    "    return json.loads(response.json()['choices'][0]['message']['content'])"
   ]
  },
  {
   "cell_type": "code",
   "execution_count": 129,
   "metadata": {},
   "outputs": [
    {
     "name": "stdout",
     "output_type": "stream",
     "text": [
      "{'choices': [{'content_filter_results': {'hate': {'filtered': False, 'severity': 'safe'}, 'self_harm': {'filtered': False, 'severity': 'safe'}, 'sexual': {'filtered': False, 'severity': 'safe'}, 'violence': {'filtered': False, 'severity': 'safe'}}, 'finish_reason': 'stop', 'index': 0, 'logprobs': None, 'message': {'content': '{\\n    \"first_name\": \"Jose\",\\n    \"last_name\": \"Medina Gomez\"\\n}', 'role': 'assistant'}}], 'created': 1727117218, 'id': 'chatcmpl-AAiNGjZvgKqnmpAoaGhahogN9TAD1', 'model': 'gpt-4o-2024-08-06', 'object': 'chat.completion', 'prompt_filter_results': [{'prompt_index': 0, 'content_filter_results': {'hate': {'filtered': False, 'severity': 'safe'}, 'self_harm': {'filtered': False, 'severity': 'safe'}, 'sexual': {'filtered': False, 'severity': 'safe'}, 'violence': {'filtered': False, 'severity': 'safe'}}}], 'system_fingerprint': 'fp_67802d9a6d', 'usage': {'completion_tokens': 20, 'prompt_tokens': 69, 'total_tokens': 89}}\n"
     ]
    },
    {
     "data": {
      "text/plain": [
       "{'first_name': 'Jose', 'last_name': 'Medina Gomez'}"
      ]
     },
     "execution_count": 129,
     "metadata": {},
     "output_type": "execute_result"
    }
   ],
   "source": [
    "GetFirstLastNamesAPI(full_name = \"Medina Gomez, Jose\")"
   ]
  },
  {
   "cell_type": "code",
   "execution_count": null,
   "metadata": {},
   "outputs": [],
   "source": []
  },
  {
   "cell_type": "code",
   "execution_count": null,
   "metadata": {},
   "outputs": [],
   "source": []
  }
 ],
 "metadata": {
  "kernelspec": {
   "display_name": "Python 3",
   "language": "python",
   "name": "python3"
  },
  "language_info": {
   "codemirror_mode": {
    "name": "ipython",
    "version": 3
   },
   "file_extension": ".py",
   "mimetype": "text/x-python",
   "name": "python",
   "nbconvert_exporter": "python",
   "pygments_lexer": "ipython3",
   "version": "3.12.2"
  }
 },
 "nbformat": 4,
 "nbformat_minor": 2
}
