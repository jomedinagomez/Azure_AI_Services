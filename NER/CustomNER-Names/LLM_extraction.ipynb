{
 "cells": [
  {
   "cell_type": "code",
   "execution_count": 45,
   "metadata": {},
   "outputs": [],
   "source": [
    "import os\n",
    "import json\n",
    "import openai\n",
    "import pandas as pd\n",
    "from dotenv import load_dotenv\n",
    "from openai import AzureOpenAI\n",
    "load_dotenv(override=True)\n",
    "\n",
    "aoai_client = AzureOpenAI(\n",
    "  azure_endpoint = os.getenv(\"AZURE_OPENAI_ENDPOINT\"), \n",
    "  api_key=os.getenv(\"AZURE_OPENAI_API_KEY\"),  \n",
    "  api_version=\"2024-07-01-preview\"\n",
    ")"
   ]
  },
  {
   "cell_type": "code",
   "execution_count": 46,
   "metadata": {},
   "outputs": [],
   "source": [
    "names_df = pd.read_parquet(\"../data/processed/full_names.parquet\")"
   ]
  },
  {
   "cell_type": "markdown",
   "metadata": {},
   "source": [
    "### Extracting first and last names using Azure OpenAI SDK"
   ]
  },
  {
   "cell_type": "code",
   "execution_count": 47,
   "metadata": {},
   "outputs": [],
   "source": [
    "#https://github.com/derek73/python-nameparser\n",
    "instructions = \"\"\"Can you extract the first and last name from the following text?\n",
    "\n",
    "##Important\n",
    "Please provide the output in a json with the keys 'first_name' and 'last_name'\"\"\"\n",
    "\n",
    "def GetFirstLastNames(full_name):\n",
    "    query = \"Please generate a random name for me. Please use the following first and last name\" + full_name\n",
    "    messages = [{\"role\":\"system\",\"content\":instructions}, \n",
    "               {\"role\":\"user\",\"content\":query}]\n",
    "\n",
    "    response = aoai_client.chat.completions.create(model=\"gpt4o\",  \n",
    "                                        messages = messages, \n",
    "                                        temperature=0.9,  \n",
    "                                        max_tokens=2000,\n",
    "                                        response_format={ \"type\": \"json_object\" })\n",
    "                                        #seed = 42)\n",
    "    period = response.choices[0].message.content\n",
    "\n",
    "    return json.loads(period)"
   ]
  },
  {
   "cell_type": "code",
   "execution_count": 48,
   "metadata": {},
   "outputs": [
    {
     "data": {
      "text/html": [
       "<div>\n",
       "<style scoped>\n",
       "    .dataframe tbody tr th:only-of-type {\n",
       "        vertical-align: middle;\n",
       "    }\n",
       "\n",
       "    .dataframe tbody tr th {\n",
       "        vertical-align: top;\n",
       "    }\n",
       "\n",
       "    .dataframe thead th {\n",
       "        text-align: right;\n",
       "    }\n",
       "</style>\n",
       "<table border=\"1\" class=\"dataframe\">\n",
       "  <thead>\n",
       "    <tr style=\"text-align: right;\">\n",
       "      <th></th>\n",
       "      <th>First</th>\n",
       "      <th>Last</th>\n",
       "      <th>full_name</th>\n",
       "      <th>extraction</th>\n",
       "    </tr>\n",
       "  </thead>\n",
       "  <tbody>\n",
       "    <tr>\n",
       "      <th>0</th>\n",
       "      <td>Chelsea</td>\n",
       "      <td>Mitchell</td>\n",
       "      <td>Mitchell, Dr. Chelsea R., Jr., PhD</td>\n",
       "      <td>{'first_name': 'Chelsea', 'last_name': 'Mitche...</td>\n",
       "    </tr>\n",
       "    <tr>\n",
       "      <th>1</th>\n",
       "      <td>Brandon</td>\n",
       "      <td>Sylvester</td>\n",
       "      <td>Sylvester, Dr. Brandon T. J. Avery, PhD, Esq.</td>\n",
       "      <td>{'first_name': 'Brandon', 'last_name': 'Avery'}</td>\n",
       "    </tr>\n",
       "    <tr>\n",
       "      <th>2</th>\n",
       "      <td>Chris</td>\n",
       "      <td>Toussaint</td>\n",
       "      <td>Toussaint, Dr. Chris A. M. \"Kit\", Jr.</td>\n",
       "      <td>{'first_name': 'Chris', 'last_name': 'Toussaint'}</td>\n",
       "    </tr>\n",
       "    <tr>\n",
       "      <th>3</th>\n",
       "      <td>Willie</td>\n",
       "      <td>Gotti</td>\n",
       "      <td>Gotti, Willie</td>\n",
       "      <td>{'first_name': 'Willie', 'last_name': 'Gotti'}</td>\n",
       "    </tr>\n",
       "    <tr>\n",
       "      <th>4</th>\n",
       "      <td>Cristobal</td>\n",
       "      <td>Corona</td>\n",
       "      <td>Corona, Dr. Cristobal J. III</td>\n",
       "      <td>{'first_name': 'Cristobal', 'last_name': 'Coro...</td>\n",
       "    </tr>\n",
       "  </tbody>\n",
       "</table>\n",
       "</div>"
      ],
      "text/plain": [
       "       First       Last                                      full_name  \\\n",
       "0    Chelsea   Mitchell             Mitchell, Dr. Chelsea R., Jr., PhD   \n",
       "1    Brandon  Sylvester  Sylvester, Dr. Brandon T. J. Avery, PhD, Esq.   \n",
       "2      Chris  Toussaint          Toussaint, Dr. Chris A. M. \"Kit\", Jr.   \n",
       "3     Willie      Gotti                                  Gotti, Willie   \n",
       "4  Cristobal     Corona                   Corona, Dr. Cristobal J. III   \n",
       "\n",
       "                                          extraction  \n",
       "0  {'first_name': 'Chelsea', 'last_name': 'Mitche...  \n",
       "1    {'first_name': 'Brandon', 'last_name': 'Avery'}  \n",
       "2  {'first_name': 'Chris', 'last_name': 'Toussaint'}  \n",
       "3     {'first_name': 'Willie', 'last_name': 'Gotti'}  \n",
       "4  {'first_name': 'Cristobal', 'last_name': 'Coro...  "
      ]
     },
     "execution_count": 48,
     "metadata": {},
     "output_type": "execute_result"
    }
   ],
   "source": [
    "names_df['extraction'] = names_df['full_name'].apply(lambda x: GetFirstLastNames(x))\n",
    "names_df.head()"
   ]
  },
  {
   "cell_type": "markdown",
   "metadata": {},
   "source": [
    "### Extracting first and last names using Azure API"
   ]
  },
  {
   "cell_type": "code",
   "execution_count": 49,
   "metadata": {},
   "outputs": [],
   "source": [
    "import requests"
   ]
  },
  {
   "cell_type": "code",
   "execution_count": 50,
   "metadata": {},
   "outputs": [],
   "source": [
    "azure_endpoint = os.getenv(\"AZURE_OPENAI_ENDPOINT\")\n",
    "api_key=os.getenv(\"AZURE_OPENAI_API_KEY\")\n",
    "api_version=\"2024-07-01-preview\"\n",
    "deployment_name = \"gpt4o\"\n",
    "\n",
    "headers = {\"api-key\": api_key}\n",
    "\n",
    "\n",
    "instructions = \"\"\"Can you extract the first and last name from the following text?\n",
    "\n",
    "##Important\n",
    "Please provide the output in a json with the keys 'first_name' and 'last_name'\"\"\"\n",
    "\n",
    "query = \"Please generate a random name for me. Please use the following first and last name\" + \"Jose Medina Gomez\"\n",
    "\n",
    "data =  [{\"role\":\"system\",\"content\":\"test\"}, {\"role\":\"user\",\"content\":\"hello\"}]\n",
    "payload = str({\"messages\": data, \"temperature\": 0.9, \"max_tokens\": 2000}).replace(\"'\", '\"')"
   ]
  },
  {
   "cell_type": "code",
   "execution_count": 51,
   "metadata": {},
   "outputs": [],
   "source": [
    "def GetFirstLastNamesAPI(full_name, temperature=0.9, max_tokens=2000):\n",
    "\n",
    "    instructions = \"\"\"Can you extract the first and last name from the following text?\n",
    "\n",
    "    ##Important\n",
    "    Please provide the output in a json with the keys 'first_name' and 'last_name'\"\"\"\n",
    "\n",
    "    question = \"Please responde ina json with the first and last name for me. Please use the following full name\" + full_name\n",
    "    messages =  [{\"role\":\"system\",\"content\":instructions}, {\"role\":\"user\",\"content\":question}]\n",
    "\n",
    "    response_format=  { \"type\": \"json_object\" }\n",
    "\n",
    "    url = f\"{azure_endpoint}/openai/deployments/{deployment_name}/chat/completions?api-version={api_version}\"\n",
    "    payload = {\n",
    "        \"messages\": messages,\n",
    "        \"temperature\": temperature,\n",
    "        \"max_tokens\": max_tokens,\n",
    "        \"response_format\": { \"type\": \"json_object\" }\n",
    "    }\n",
    "    response = requests.post(url, headers=headers, json=payload)\n",
    "    print(response.json())\n",
    "    return json.loads(response.json()['choices'][0]['message']['content'])"
   ]
  },
  {
   "cell_type": "code",
   "execution_count": 52,
   "metadata": {},
   "outputs": [
    {
     "name": "stdout",
     "output_type": "stream",
     "text": [
      "{'choices': [{'content_filter_results': {'hate': {'filtered': False, 'severity': 'safe'}, 'self_harm': {'filtered': False, 'severity': 'safe'}, 'sexual': {'filtered': False, 'severity': 'safe'}, 'violence': {'filtered': False, 'severity': 'safe'}}, 'finish_reason': 'stop', 'index': 0, 'logprobs': None, 'message': {'content': '{\\n    \"first_name\": \"Chris\",\\n    \"last_name\": \"Toussaint\"\\n}', 'role': 'assistant'}}], 'created': 1727190490, 'id': 'chatcmpl-AB1R4sGAmKoszA7RGjA7keu7IkPFt', 'model': 'gpt-4o-2024-08-06', 'object': 'chat.completion', 'prompt_filter_results': [{'prompt_index': 0, 'content_filter_results': {'hate': {'filtered': False, 'severity': 'safe'}, 'self_harm': {'filtered': False, 'severity': 'safe'}, 'sexual': {'filtered': False, 'severity': 'safe'}, 'violence': {'filtered': False, 'severity': 'safe'}}}], 'system_fingerprint': 'fp_67802d9a6d', 'usage': {'completion_tokens': 20, 'prompt_tokens': 83, 'total_tokens': 103}}\n"
     ]
    },
    {
     "data": {
      "text/plain": [
       "{'first_name': 'Chris', 'last_name': 'Toussaint'}"
      ]
     },
     "execution_count": 52,
     "metadata": {},
     "output_type": "execute_result"
    }
   ],
   "source": [
    "GetFirstLastNamesAPI(full_name = names_df['full_name'][2])"
   ]
  },
  {
   "cell_type": "code",
   "execution_count": null,
   "metadata": {},
   "outputs": [],
   "source": []
  }
 ],
 "metadata": {
  "kernelspec": {
   "display_name": "Python 3",
   "language": "python",
   "name": "python3"
  },
  "language_info": {
   "codemirror_mode": {
    "name": "ipython",
    "version": 3
   },
   "file_extension": ".py",
   "mimetype": "text/x-python",
   "name": "python",
   "nbconvert_exporter": "python",
   "pygments_lexer": "ipython3",
   "version": "3.12.2"
  }
 },
 "nbformat": 4,
 "nbformat_minor": 2
}
