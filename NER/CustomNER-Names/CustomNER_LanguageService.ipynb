{
 "cells": [
  {
   "cell_type": "code",
   "execution_count": 43,
   "metadata": {},
   "outputs": [],
   "source": [
    "# https://github.com/MicrosoftDocs/azure-ai-docs/blob/main/articles/ai-services/language-service/custom-named-entity-recognition/how-to/call-api.md#tab/client\n",
    "# https://github.com/Azure/azure-sdk-for-python/blob/main/sdk/textanalytics/azure-ai-textanalytics/samples/sample_recognize_custom_entities.py\n",
    "# https://learn.microsoft.com/en-us/python/api/overview/azure/ai-textanalytics-readme?view=azure-python"
   ]
  },
  {
   "cell_type": "code",
   "execution_count": 44,
   "metadata": {},
   "outputs": [],
   "source": [
    "import os\n",
    "import json\n",
    "import openai\n",
    "import pandas as pd\n",
    "from azure.core.credentials import AzureKeyCredential\n",
    "from azure.ai.textanalytics import TextAnalyticsClient\n",
    "\n",
    "from dotenv import load_dotenv\n",
    "from openai import AzureOpenAI\n",
    "load_dotenv(override=True)\n",
    "\n",
    "aoai_client = AzureOpenAI(\n",
    "  azure_endpoint = os.getenv(\"AZURE_OPENAI_ENDPOINT\"), \n",
    "  api_key=os.getenv(\"AZURE_OPENAI_API_KEY\"),  \n",
    "  api_version=\"2024-07-01-preview\"\n",
    ")\n",
    "\n",
    "AZURE_LANGUAGE_ENDPOINT = os.environ[\"AZURE_LANGUAGE_ENDPOINT\"]\n",
    "AZURE_LANGUAGE_KEY = os.environ[\"AZURE_LANGUAGE_KEY\"]\n",
    "CUSTOM_ENTITIES_PROJECT_NAME = os.environ[\"CUSTOM_ENTITIES_PROJECT_NAME\"]\n",
    "CUSTOM_ENTITIES_DEPLOYMENT_NAME = os.environ[\"CUSTOM_ENTITIES_DEPLOYMENT_NAME\"]\n",
    "path_to_sample_document = \"../data/processed/text/full_names_0.txt\"\n",
    "\n",
    "text_analytics_client = TextAnalyticsClient(\n",
    "    endpoint=AZURE_LANGUAGE_ENDPOINT,\n",
    "    credential=AzureKeyCredential(AZURE_LANGUAGE_KEY),\n",
    ")\n"
   ]
  },
  {
   "cell_type": "code",
   "execution_count": 123,
   "metadata": {},
   "outputs": [
    {
     "data": {
      "text/plain": [
       "'customNER'"
      ]
     },
     "execution_count": 123,
     "metadata": {},
     "output_type": "execute_result"
    }
   ],
   "source": [
    "CUSTOM_ENTITIES_DEPLOYMENT_NAME"
   ]
  },
  {
   "cell_type": "code",
   "execution_count": 45,
   "metadata": {},
   "outputs": [],
   "source": [
    "names_df = pd.read_parquet(\"../data/processed/full_names.parquet\")"
   ]
  },
  {
   "cell_type": "markdown",
   "metadata": {},
   "source": [
    "### Extracting first and last names using SDK"
   ]
  },
  {
   "cell_type": "code",
   "execution_count": 46,
   "metadata": {},
   "outputs": [],
   "source": [
    "def sample_recognize_custom_entities(document) -> None:\n",
    "    # [START recognize_custom_entities]\n",
    "\n",
    "    poller = text_analytics_client.begin_recognize_custom_entities(\n",
    "        [document],\n",
    "        project_name=CUSTOM_ENTITIES_PROJECT_NAME,\n",
    "        deployment_name=CUSTOM_ENTITIES_DEPLOYMENT_NAME\n",
    "    )\n",
    "\n",
    "    document_results = poller.result()\n",
    "\n",
    "    return document_results"
   ]
  },
  {
   "cell_type": "code",
   "execution_count": 47,
   "metadata": {},
   "outputs": [],
   "source": [
    "custom_document_results = sample_recognize_custom_entities(\"John F. Kennedy\")"
   ]
  },
  {
   "cell_type": "code",
   "execution_count": 48,
   "metadata": {},
   "outputs": [
    {
     "data": {
      "text/plain": [
       "[RecognizeCustomEntitiesResult(id=0, entities=[CategorizedEntity(text=John, category=first_name, subcategory=None, length=4, offset=0, confidence_score=1.0), CategorizedEntity(text=Kennedy, category=last_name, subcategory=None, length=7, offset=8, confidence_score=1.0)], warnings=[], statistics=None, is_error=False)]"
      ]
     },
     "execution_count": 48,
     "metadata": {},
     "output_type": "execute_result"
    }
   ],
   "source": [
    "[i for i in custom_document_results]"
   ]
  },
  {
   "cell_type": "markdown",
   "metadata": {},
   "source": [
    "### Extracting first and last names using API"
   ]
  },
  {
   "cell_type": "code",
   "execution_count": 232,
   "metadata": {},
   "outputs": [],
   "source": [
    "import requests\n",
    "import time"
   ]
  },
  {
   "cell_type": "code",
   "execution_count": 347,
   "metadata": {},
   "outputs": [],
   "source": [
    "def GetFirstLastNamesAPI(document):\n",
    "    \n",
    "    headers = {\"Ocp-Apim-Subscription-Key\": AZURE_LANGUAGE_KEY, \"Content-Type\": \"application/json\"}\n",
    "\n",
    "    url = f\"{AZURE_LANGUAGE_ENDPOINT}/language/analyze-text/jobs?api-version=2022-10-01-preview\"\n",
    "    body = {\n",
    "    \"displayName\": \"Extracting entities\",\n",
    "    \"analysisInput\": {\n",
    "        \"documents\": [\n",
    "            {\n",
    "                \"id\": \"1\",\n",
    "                \"language\": \"en\",\n",
    "                \"text\": f\"{document}\"\n",
    "            }]\n",
    "    },\n",
    "    \"tasks\": [\n",
    "        {\n",
    "            \"kind\": \"CustomEntityRecognition\",\n",
    "            \"taskName\": \"Entity Recognition\",\n",
    "            \"parameters\": {\n",
    "                \"projectName\": \"CustomNameExtraction\",\n",
    "                \"deploymentName\": \"customNER\"\n",
    "            }\n",
    "        }\n",
    "    ]\n",
    "}\n",
    "    response = requests.post(url, headers=headers, json=body)\n",
    "\n",
    "    get_url = response.headers.pop(\"operation-location\")\n",
    "    get_response = requests.get(get_url, headers=headers)\n",
    "    status = get_response.json()['status']\n",
    "\n",
    "    while status != \"succeeded\":\n",
    "        time.sleep(2)\n",
    "        get_response = requests.get(get_url, headers=headers)\n",
    "        status = get_response.json()['status']\n",
    "    \n",
    "    get_entities = get_response.json()['tasks']['items'][0]['results']['documents'][0]['entities']\n",
    "\n",
    "    return get_entities"
   ]
  },
  {
   "cell_type": "code",
   "execution_count": 348,
   "metadata": {},
   "outputs": [],
   "source": [
    "response = GetFirstLastNamesAPI(\"Chellete, Travis M.\")"
   ]
  },
  {
   "cell_type": "code",
   "execution_count": 349,
   "metadata": {},
   "outputs": [
    {
     "data": {
      "text/plain": [
       "[{'text': 'Chellete',\n",
       "  'category': 'last_name',\n",
       "  'offset': 0,\n",
       "  'length': 8,\n",
       "  'confidenceScore': 1.0},\n",
       " {'text': 'Travis',\n",
       "  'category': 'first_name',\n",
       "  'offset': 10,\n",
       "  'length': 6,\n",
       "  'confidenceScore': 1.0}]"
      ]
     },
     "execution_count": 349,
     "metadata": {},
     "output_type": "execute_result"
    }
   ],
   "source": [
    "response"
   ]
  },
  {
   "cell_type": "code",
   "execution_count": null,
   "metadata": {},
   "outputs": [],
   "source": []
  }
 ],
 "metadata": {
  "kernelspec": {
   "display_name": "Python 3",
   "language": "python",
   "name": "python3"
  },
  "language_info": {
   "codemirror_mode": {
    "name": "ipython",
    "version": 3
   },
   "file_extension": ".py",
   "mimetype": "text/x-python",
   "name": "python",
   "nbconvert_exporter": "python",
   "pygments_lexer": "ipython3",
   "version": "3.12.2"
  }
 },
 "nbformat": 4,
 "nbformat_minor": 2
}
